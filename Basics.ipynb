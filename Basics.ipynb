{
 "cells": [
  {
   "cell_type": "markdown",
   "metadata": {},
   "source": [
    "# Basic Package Imports\n",
    "\n",
    "We'll start off by getting some data.\n",
    "<br>\n",
    "To do this we'll start by importing some packages."
   ]
  },
  {
   "cell_type": "code",
   "execution_count": 24,
   "metadata": {},
   "outputs": [],
   "source": [
    "import pandas as pd"
   ]
  },
  {
   "cell_type": "markdown",
   "metadata": {},
   "source": [
    "The pandas module allows us to work with DataFrames and Series, which are just tables and series of data.\n",
    "<br>\n",
    "We'll explore how they're used below"
   ]
  },
  {
   "cell_type": "code",
   "execution_count": 25,
   "metadata": {},
   "outputs": [],
   "source": [
    "import numpy as np"
   ]
  },
  {
   "cell_type": "markdown",
   "metadata": {},
   "source": [
    "This is used for a wide variety of stuff, from creating arrays to generating random numbers from certain distributions.\n",
    "<br>\n",
    "Again, this will be explored below."
   ]
  },
  {
   "cell_type": "code",
   "execution_count": 26,
   "metadata": {},
   "outputs": [],
   "source": [
    "import matplotlib.pyplot as plt"
   ]
  },
  {
   "cell_type": "markdown",
   "metadata": {},
   "source": [
    "This is typically what we're going to use to draw graphs.\n",
    "We'll see how it's used below.\n",
    "<br>\n",
    "A word on why we do this:\n",
    "<br>\n",
    "We specifically say matplotlib.pyplot because we we will be using the matplotlib.pyplot function a lot so it would just be easier if we shortened it to plt.\n",
    "<br>\n",
    "If we wanted to, we could keep the original code when we draw the graph and get the same result.\n",
    "<br>\n",
    "Again, we'll see below as to how this works with a demonstratable example."
   ]
  },
  {
   "cell_type": "code",
   "execution_count": 27,
   "metadata": {},
   "outputs": [],
   "source": [
    "import pandas_datareader as pdr"
   ]
  },
  {
   "cell_type": "markdown",
   "metadata": {},
   "source": [
    "This is our module where we'll be getting most of our data from. \n",
    "<br>\n",
    "There is another one called yfinance which works in a similar manner but we'll just use this to for now."
   ]
  },
  {
   "cell_type": "code",
   "execution_count": 27,
   "metadata": {},
   "outputs": [],
   "source": [
    "import seaborn as sns; sns.set()"
   ]
  },
  {
   "cell_type": "markdown",
   "metadata": {},
   "source": [
    "The seaborn module is a visualisation module.\n",
    "<br>\n",
    "We, like all the other programmers out there, are lazy to type out the entire name as for package so we just import it as 'sns' to save time.\n",
    "<br>\n",
    "We can import it as another name (i.e. fuck) and it would still work as long as we properly use the function."
   ]
  }
 ],
 "metadata": {
  "kernelspec": {
   "display_name": "Python 3",
   "language": "python",
   "name": "python3"
  },
  "language_info": {
   "codemirror_mode": {
    "name": "ipython",
    "version": 3
   },
   "file_extension": ".py",
   "mimetype": "text/x-python",
   "name": "python",
   "nbconvert_exporter": "python",
   "pygments_lexer": "ipython3",
   "version": "3.7.6"
  }
 },
 "nbformat": 4,
 "nbformat_minor": 4
}
